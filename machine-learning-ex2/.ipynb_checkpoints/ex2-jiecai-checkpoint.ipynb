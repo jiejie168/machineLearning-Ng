{
 "cells": [
  {
   "cell_type": "code",
   "execution_count": 274,
   "metadata": {},
   "outputs": [],
   "source": [
    "import numpy as np\n",
    "from matplotlib import pyplot as pp\n",
    "import math as mm\n",
    "import numpy.linalg  as alg"
   ]
  },
  {
   "cell_type": "code",
   "execution_count": 275,
   "metadata": {},
   "outputs": [],
   "source": [
    "data=open('ex2data1.txt').readlines()\n",
    "X1=[float(elem.split(',')[0]) for elem in data]\n",
    "X2=[float(elem.split(',')[1]) for elem in data]\n",
    "y=[int (elem.split(',')[2].strip()) for elem in data]\n",
    "X=np.c_[X1,X2]\n",
    "m=len(y)"
   ]
  },
  {
   "cell_type": "code",
   "execution_count": 276,
   "metadata": {},
   "outputs": [],
   "source": [
    "\n",
    "pos=[index for index, value in enumerate(y) if value==1]\n",
    "neg=[index for index, value in enumerate(y) if value==0]"
   ]
  },
  {
   "cell_type": "code",
   "execution_count": 277,
   "metadata": {},
   "outputs": [],
   "source": [
    "def plotData(X,y):\n",
    "    pos=[index for index, value in enumerate(y) if value==1]\n",
    "    neg=[index for index, value in enumerate(y) if value==0]\n",
    "    \n",
    "    fig=pp.figure()\n",
    "    ax=pp.subplot(111)\n",
    "    ax.plot(X[pos,0],X[pos,1],'k+',label='Admitted')\n",
    "    ax.plot(X[neg,0],X[neg,1],'ko',label='No admitted')\n",
    "    ax.legend()\n",
    "    ax.set_xlabel('Exam 1 score')\n",
    "    ax.set_ylabel('Exam 2 score')\n",
    "    pp.show()"
   ]
  },
  {
   "cell_type": "code",
   "execution_count": 278,
   "metadata": {},
   "outputs": [
    {
     "data": {
      "image/png": "[encoded data removed]",
      "text/plain": [
       "<matplotlib.figure.Figure at 0xc11d91de10>"
      ]
     },
     "metadata": {},
     "output_type": "display_data"
    }
   ],
   "source": [
    "plotData(X,y)"
   ]
  },
  {
   "cell_type": "code",
   "execution_count": 279,
   "metadata": {},
   "outputs": [],
   "source": [
    "one=np.ones((m,1),'d')\n",
    "X=np.c_[one,X]\n",
    "n=np.shape(X)[1]\n",
    "initial_theta=np.zeros((n,1),'d')\n",
    "y=np.asarray(y)\n",
    "y.shape=(m,1)\n",
    "\n",
    "def sigmoid(z):  # z must be an array. \n",
    "    g=np.zeros(np.shape(z),'d') # get the same size of matrix/vector with z\n",
    "    m1=np.shape(g)[0]\n",
    "    n1=np.shape(g)[1]\n",
    "    \n",
    "    for i in range(0,m1):\n",
    "        for j in range(0,n1):\n",
    "            g[i,j]=1/(1+np.exp(-z[i,j]))\n",
    "    return g\n",
    "        "
   ]
  },
  {
   "cell_type": "code",
   "execution_count": null,
   "metadata": {},
   "outputs": [],
   "source": [
    "def costFunction(theta,X,y):\n",
    "    m=len(y)\n",
    "    J=0\n",
    "    grad=np.zeros(np.shape(theta),'d')\n",
    "    z=np.dot(X,theta)  # m*1 array\n",
    "    g=sigmoid(z)  # m*1 array\n",
    "    predictions=-y*np.log(g)-(1-y)*np.log(1-g)\n",
    "    J=(1/m)*np.sum(predictions)\n",
    "\n",
    "    for i in range(0,np.shape(theta)[0]):\n",
    "        temp=(g-y).T*X[:,i]\n",
    "        grad[i,0]=(1/m)*np.sum(temp)\n",
    "    return J, grad "
   ]
  },
  {
   "cell_type": "markdown",
   "metadata": {},
   "source": [
    "cost=costFunction(initial_theta,X,y)\n",
    "cost[1]"
   ]
  },
  {
   "cell_type": "code",
   "execution_count": 285,
   "metadata": {},
   "outputs": [],
   "source": [
    "m=len(y)\n",
    "J=0\n",
    "grad=np.zeros(np.shape(initial_theta),'d')\n",
    "z=np.dot(X,initial_theta)  # m*1 array\n",
    "g=sigmoid(z)  # m*1 array\n",
    "predictions=-y*np.log(g)-(1-y)*np.log(1-g)\n",
    "J=(1/m)*np.sum(predictions)\n",
    "\n",
    "for i in range(0,np.shape(initial_theta)[0]):\n",
    "    temp=(g-y).T*X[:,i]\n",
    "    grad[i,0]=(1/m)*np.sum(temp)"
   ]
  },
  {
   "cell_type": "code",
   "execution_count": 293,
   "metadata": {},
   "outputs": [],
   "source": [
    "a=np.array([[1],[3]])\n",
    "b=np.array([[5],[7]])"
   ]
  },
  {
   "cell_type": "code",
   "execution_count": 294,
   "metadata": {},
   "outputs": [
    {
     "data": {
      "text/plain": [
       "array([[ 5],\n",
       "       [21]])"
      ]
     },
     "execution_count": 294,
     "metadata": {},
     "output_type": "execute_result"
    }
   ],
   "source": [
    "a*b"
   ]
  },
  {
   "cell_type": "code",
   "execution_count": 295,
   "metadata": {},
   "outputs": [],
   "source": [
    "b.shape=(2,)"
   ]
  },
  {
   "cell_type": "code",
   "execution_count": 296,
   "metadata": {},
   "outputs": [
    {
     "data": {
      "text/plain": [
       "array([[ 5,  7],\n",
       "       [15, 21]])"
      ]
     },
     "execution_count": 296,
     "metadata": {},
     "output_type": "execute_result"
    }
   ],
   "source": [
    "a*b"
   ]
  },
  {
   "cell_type": "code",
   "execution_count": null,
   "metadata": {},
   "outputs": [],
   "source": []
  }
 ],
 "metadata": {
  "kernelspec": {
   "display_name": "Python 3",
   "language": "python",
   "name": "python3"
  },
  "language_info": {
   "codemirror_mode": {
    "name": "ipython",
    "version": 3
   },
   "file_extension": ".py",
   "mimetype": "text/x-python",
   "name": "python",
   "nbconvert_exporter": "python",
   "pygments_lexer": "ipython3",
   "version": "3.5.0"
  }
 },
 "nbformat": 4,
 "nbformat_minor": 2
}
