{
 "cells": [
  {
   "cell_type": "code",
   "execution_count": 403,
   "metadata": {},
   "outputs": [],
   "source": [
    "import numpy as np\n",
    "from matplotlib import pyplot as pp\n",
    "import numpy.linalg as alg"
   ]
  },
  {
   "cell_type": "code",
   "execution_count": 404,
   "metadata": {},
   "outputs": [
    {
     "data": {
      "text/plain": [
       "['6.1101,17.592\\n',\n",
       " '5.5277,9.1302\\n',\n",
       " '8.5186,13.662\\n',\n",
       " '7.0032,11.854\\n',\n",
       " '5.8598,6.8233\\n',\n",
       " '8.3829,11.886\\n',\n",
       " '7.4764,4.3483\\n',\n",
       " '8.5781,12\\n',\n",
       " '6.4862,6.5987\\n',\n",
       " '5.0546,3.8166\\n']"
      ]
     },
     "execution_count": 404,
     "metadata": {},
     "output_type": "execute_result"
    }
   ],
   "source": [
    "open('ex1data1.txt','r').readlines()[0:10]"
   ]
  },
  {
   "cell_type": "code",
   "execution_count": 405,
   "metadata": {},
   "outputs": [],
   "source": [
    "data=open('ex1data1.txt','r').readlines()"
   ]
  },
  {
   "cell_type": "code",
   "execution_count": 406,
   "metadata": {},
   "outputs": [],
   "source": [
    "X=[float(elm.split(',')[0]) for elm in data]\n",
    "y=[float(elm.split(',')[1]) for elm in data]\n",
    "#m=len(y)"
   ]
  },
  {
   "cell_type": "code",
   "execution_count": 407,
   "metadata": {},
   "outputs": [
    {
     "data": {
      "text/plain": [
       "(97,)"
      ]
     },
     "execution_count": 407,
     "metadata": {},
     "output_type": "execute_result"
    }
   ],
   "source": [
    "np.shape(X)"
   ]
  },
  {
   "cell_type": "code",
   "execution_count": 408,
   "metadata": {},
   "outputs": [],
   "source": [
    "def plotData(X,y):\n",
    "    pp.plot(X,y,'rx')\n",
    "    pp.xlabel('Profit in $10,000s')\n",
    "    pp.ylabel('Population of City in 10,000s')\n",
    "    pp.show()"
   ]
  },
  {
   "cell_type": "code",
   "execution_count": 409,
   "metadata": {},
   "outputs": [
    {
     "data": {
      "image/png": "[encoded data removed]",
      "text/plain": [
       "<matplotlib.figure.Figure at 0x901eb20828>"
      ]
     },
     "metadata": {},
     "output_type": "display_data"
    }
   ],
   "source": [
    "plotData(X,y)"
   ]
  },
  {
   "cell_type": "code",
   "execution_count": 410,
   "metadata": {},
   "outputs": [],
   "source": [
    "def computeCost(X,y,theta):\n",
    "    #X is the \"design matrix\" containing our training examples.\n",
    "    # y is the class labels\n",
    "    m=np.shape(X)[0]  # number of training number\n",
    "    predictions=np.dot(X,theta)  # predictions of hypothesis on all m examples\n",
    "    sqrErrors=(predictions-y)*(predictions-y) # squared errors\n",
    "\n",
    "    J=np.sum(sqrErrors)/(2*m)\n",
    "    return J"
   ]
  },
  {
   "cell_type": "code",
   "execution_count": 411,
   "metadata": {},
   "outputs": [],
   "source": [
    "theta=np.zeros((2,1),'d')\n",
    "X=np.asarray(X)  # change the list to array\n",
    "y=np.asarray(y)\n",
    "y.shape=(97,1)\n",
    "one=np.ones((m,1),'d')\n",
    "X=np.c_[one,X]"
   ]
  },
  {
   "cell_type": "code",
   "execution_count": 412,
   "metadata": {},
   "outputs": [
    {
     "data": {
      "text/plain": [
       "32.072733877455676"
      ]
     },
     "execution_count": 412,
     "metadata": {},
     "output_type": "execute_result"
    }
   ],
   "source": [
    "computeCost(X,y,theta)"
   ]
  },
  {
   "cell_type": "code",
   "execution_count": 414,
   "metadata": {},
   "outputs": [
    {
     "data": {
      "text/plain": [
       "54.24245508201238"
      ]
     },
     "execution_count": 414,
     "metadata": {},
     "output_type": "execute_result"
    }
   ],
   "source": [
    "theta1=np.array([[-1],[2]])\n",
    "computeCost(X,y,theta1)"
   ]
  },
  {
   "cell_type": "code",
   "execution_count": null,
   "metadata": {},
   "outputs": [],
   "source": []
  }
 ],
 "metadata": {
  "kernelspec": {
   "display_name": "Python 3",
   "language": "python",
   "name": "python3"
  },
  "language_info": {
   "codemirror_mode": {
    "name": "ipython",
    "version": 3
   },
   "file_extension": ".py",
   "mimetype": "text/x-python",
   "name": "python",
   "nbconvert_exporter": "python",
   "pygments_lexer": "ipython3",
   "version": "3.5.0"
  }
 },
 "nbformat": 4,
 "nbformat_minor": 2
}
