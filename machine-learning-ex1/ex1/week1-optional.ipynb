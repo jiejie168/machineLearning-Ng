{
 "cells": [
  {
   "cell_type": "code",
   "execution_count": 1,
   "metadata": {},
   "outputs": [],
   "source": [
    "import numpy as np\n",
    "from matplotlib import pyplot as pp\n",
    "import numpy.linalg as alg\n",
    "from mpl_toolkits import mplot3d # a three-dimensional axes can be created"
   ]
  },
  {
   "cell_type": "markdown",
   "metadata": {},
   "source": [
    "# this is the script for linear regressino with multiple variable"
   ]
  },
  {
   "cell_type": "code",
   "execution_count": 8,
   "metadata": {},
   "outputs": [],
   "source": [
    "data=open('ex1data2.txt','r').readlines()"
   ]
  },
  {
   "cell_type": "code",
   "execution_count": 9,
   "metadata": {},
   "outputs": [],
   "source": [
    "X1=[float(elem.split(',')[0]) for elem in data]\n",
    "X2=[float(elem.split(',')[1]) for elem in data]\n",
    "y=[float(elem.split(',')[2])  for elem in data]\n",
    "X=np.c_[X1,X2]\n",
    "m=len(y)"
   ]
  },
  {
   "cell_type": "code",
   "execution_count": 10,
   "metadata": {},
   "outputs": [
    {
     "name": "stdout",
     "output_type": "stream",
     "text": [
      "First 10 examples from the dataset: \n",
      "\n",
      "X1= 2104. X2= 3 \n",
      "\n",
      "X1= 1600. X2= 3 \n",
      "\n",
      "X1= 2400. X2= 3 \n",
      "\n",
      "X1= 1416. X2= 2 \n",
      "\n",
      "X1= 3000. X2= 4 \n",
      "\n",
      "X1= 1985. X2= 4 \n",
      "\n",
      "X1= 1534. X2= 3 \n",
      "\n",
      "X1= 1427. X2= 3 \n",
      "\n",
      "X1= 1380. X2= 3 \n",
      "\n"
     ]
    },
    {
     "data": {
      "text/plain": [
       "[None, None, None, None, None, None, None, None, None]"
      ]
     },
     "execution_count": 10,
     "metadata": {},
     "output_type": "execute_result"
    }
   ],
   "source": [
    "print ('First 10 examples from the dataset: \\n')\n",
    "[print ('X1= %.0f. X2= %.0f \\n' % (X1[i],X2[i])) for i in range(0,9)]"
   ]
  },
  {
   "cell_type": "code",
   "execution_count": 12,
   "metadata": {},
   "outputs": [
    {
     "data": {
      "text/plain": [
       "array([[2.104e+03, 3.000e+00],\n",
       "       [1.600e+03, 3.000e+00],\n",
       "       [2.400e+03, 3.000e+00],\n",
       "       [1.416e+03, 2.000e+00],\n",
       "       [3.000e+03, 4.000e+00],\n",
       "       [1.985e+03, 4.000e+00],\n",
       "       [1.534e+03, 3.000e+00],\n",
       "       [1.427e+03, 3.000e+00],\n",
       "       [1.380e+03, 3.000e+00],\n",
       "       [1.494e+03, 3.000e+00],\n",
       "       [1.940e+03, 4.000e+00],\n",
       "       [2.000e+03, 3.000e+00],\n",
       "       [1.890e+03, 3.000e+00],\n",
       "       [4.478e+03, 5.000e+00],\n",
       "       [1.268e+03, 3.000e+00],\n",
       "       [2.300e+03, 4.000e+00],\n",
       "       [1.320e+03, 2.000e+00],\n",
       "       [1.236e+03, 3.000e+00],\n",
       "       [2.609e+03, 4.000e+00],\n",
       "       [3.031e+03, 4.000e+00],\n",
       "       [1.767e+03, 3.000e+00],\n",
       "       [1.888e+03, 2.000e+00],\n",
       "       [1.604e+03, 3.000e+00],\n",
       "       [1.962e+03, 4.000e+00],\n",
       "       [3.890e+03, 3.000e+00],\n",
       "       [1.100e+03, 3.000e+00],\n",
       "       [1.458e+03, 3.000e+00],\n",
       "       [2.526e+03, 3.000e+00],\n",
       "       [2.200e+03, 3.000e+00],\n",
       "       [2.637e+03, 3.000e+00],\n",
       "       [1.839e+03, 2.000e+00],\n",
       "       [1.000e+03, 1.000e+00],\n",
       "       [2.040e+03, 4.000e+00],\n",
       "       [3.137e+03, 3.000e+00],\n",
       "       [1.811e+03, 4.000e+00],\n",
       "       [1.437e+03, 3.000e+00],\n",
       "       [1.239e+03, 3.000e+00],\n",
       "       [2.132e+03, 4.000e+00],\n",
       "       [4.215e+03, 4.000e+00],\n",
       "       [2.162e+03, 4.000e+00],\n",
       "       [1.664e+03, 2.000e+00],\n",
       "       [2.238e+03, 3.000e+00],\n",
       "       [2.567e+03, 4.000e+00],\n",
       "       [1.200e+03, 3.000e+00],\n",
       "       [8.520e+02, 2.000e+00],\n",
       "       [1.852e+03, 4.000e+00],\n",
       "       [1.203e+03, 3.000e+00]])"
      ]
     },
     "execution_count": 12,
     "metadata": {},
     "output_type": "execute_result"
    }
   ],
   "source": []
  },
  {
   "cell_type": "code",
   "execution_count": 5,
   "metadata": {},
   "outputs": [],
   "source": [
    "def featureNormalize(X):\n",
    "    X_norm=X\n",
    "    mu=np.zeros((1,X.shape[1]),'d')\n",
    "    sigma=np.zeros((1,X.shape[1]),'d')\n",
    "    \n",
    "    column_x=X.shape[1]\n",
    "    for i in range(0,column_x):\n",
    "        mu[0,i]= np.mean(X[:,i])\n",
    "        \n",
    "    for i in range(0,column_x):\n",
    "        sigma[0,i]=np.std(X[:,i],ddof=1) # the sample standard deviation!!\n",
    "        \n",
    "    for i in range(0,column_x):\n",
    "        X_norm[:,i]=(X[:,i]-mu[0,i])/sigma[0,i]\n",
    "    \n",
    "    return X_norm, mu, sigma"
   ]
  },
  {
   "cell_type": "code",
   "execution_count": 6,
   "metadata": {},
   "outputs": [
    {
     "data": {
      "text/plain": [
       "(array([[ 1.30009869e-01, -2.23675187e-01],\n",
       "        [-5.04189838e-01, -2.23675187e-01],\n",
       "        [ 5.02476364e-01, -2.23675187e-01],\n",
       "        [-7.35723065e-01, -1.53776691e+00],\n",
       "        [ 1.25747602e+00,  1.09041654e+00],\n",
       "        [-1.97317285e-02,  1.09041654e+00],\n",
       "        [-5.87239800e-01, -2.23675187e-01],\n",
       "        [-7.21881404e-01, -2.23675187e-01],\n",
       "        [-7.81023044e-01, -2.23675187e-01],\n",
       "        [-6.37573110e-01, -2.23675187e-01],\n",
       "        [-7.63567023e-02,  1.09041654e+00],\n",
       "        [-8.56737193e-04, -2.23675187e-01],\n",
       "        [-1.39273340e-01, -2.23675187e-01],\n",
       "        [ 3.11729182e+00,  2.40450826e+00],\n",
       "        [-9.21956312e-01, -2.23675187e-01],\n",
       "        [ 3.76643089e-01,  1.09041654e+00],\n",
       "        [-8.56523009e-01, -1.53776691e+00],\n",
       "        [-9.62222960e-01, -2.23675187e-01],\n",
       "        [ 7.65467909e-01,  1.09041654e+00],\n",
       "        [ 1.29648433e+00,  1.09041654e+00],\n",
       "        [-2.94048269e-01, -2.23675187e-01],\n",
       "        [-1.41790005e-01, -1.53776691e+00],\n",
       "        [-4.99156507e-01, -2.23675187e-01],\n",
       "        [-4.86733818e-02,  1.09041654e+00],\n",
       "        [ 2.37739217e+00, -2.23675187e-01],\n",
       "        [-1.13335621e+00, -2.23675187e-01],\n",
       "        [-6.82873089e-01, -2.23675187e-01],\n",
       "        [ 6.61026291e-01, -2.23675187e-01],\n",
       "        [ 2.50809813e-01, -2.23675187e-01],\n",
       "        [ 8.00701226e-01, -2.23675187e-01],\n",
       "        [-2.03448310e-01, -1.53776691e+00],\n",
       "        [-1.25918949e+00, -2.85185864e+00],\n",
       "        [ 4.94765729e-02,  1.09041654e+00],\n",
       "        [ 1.42986760e+00, -2.23675187e-01],\n",
       "        [-2.38681627e-01,  1.09041654e+00],\n",
       "        [-7.09298077e-01, -2.23675187e-01],\n",
       "        [-9.58447962e-01, -2.23675187e-01],\n",
       "        [ 1.65243186e-01,  1.09041654e+00],\n",
       "        [ 2.78635031e+00,  1.09041654e+00],\n",
       "        [ 2.02993169e-01,  1.09041654e+00],\n",
       "        [-4.23656542e-01, -1.53776691e+00],\n",
       "        [ 2.98626458e-01, -2.23675187e-01],\n",
       "        [ 7.12617934e-01,  1.09041654e+00],\n",
       "        [-1.00752294e+00, -2.23675187e-01],\n",
       "        [-1.44542274e+00, -1.53776691e+00],\n",
       "        [-1.87089985e-01,  1.09041654e+00],\n",
       "        [-1.00374794e+00, -2.23675187e-01]]),\n",
       " array([[2000.68085106,    3.17021277]]),\n",
       " array([[7.94702354e+02, 7.60981887e-01]]))"
      ]
     },
     "execution_count": 6,
     "metadata": {},
     "output_type": "execute_result"
    }
   ],
   "source": [
    "X, mu, sigma=featureNormalize(X)\n",
    "X, mu, sigma"
   ]
  },
  {
   "cell_type": "code",
   "execution_count": 105,
   "metadata": {},
   "outputs": [],
   "source": [
    "theta=np.zeros((3,1),'d')\n",
    "y=np.asarray(y)\n",
    "y.shape=(m,1)\n",
    "one=np.ones((m,1),'d')\n",
    "X=np.c_[one,X]"
   ]
  },
  {
   "cell_type": "code",
   "execution_count": 106,
   "metadata": {},
   "outputs": [],
   "source": [
    "alpha=0.01\n",
    "num_iters=400"
   ]
  },
  {
   "cell_type": "code",
   "execution_count": 107,
   "metadata": {},
   "outputs": [],
   "source": [
    "def computeCostMulti(X,y,theta):\n",
    "    #X is the \"design matrix\" containing our training examples.\n",
    "    # y is the class labels\n",
    "    #m=np.shape(X)[0]  # number of training number\n",
    "    predictions=np.dot(X,theta)  # predictions of hypothesis on all m examples\n",
    "    sqrErrors=(predictions-y)*(predictions-y) # squared errors\n",
    "\n",
    "    J=np.sum(sqrErrors)/(2*m)\n",
    "    return J"
   ]
  },
  {
   "cell_type": "code",
   "execution_count": 108,
   "metadata": {},
   "outputs": [
    {
     "data": {
      "text/plain": [
       "65591548106.45744"
      ]
     },
     "execution_count": 108,
     "metadata": {},
     "output_type": "execute_result"
    }
   ],
   "source": [
    "computeCostMulti(X,y,theta)"
   ]
  },
  {
   "cell_type": "code",
   "execution_count": 109,
   "metadata": {},
   "outputs": [],
   "source": [
    "# this function is not correct, should be updated. \n",
    "\n",
    "def gradientDescentMulti(X,y,theta,alpha,num_iters):\n",
    "    # this is the function to perform gradient descent to learn\n",
    "    #theta\n",
    "    m=len(y)\n",
    "    J_history=np.zeros((num_iters,1),'d')\n",
    "    #X1=np.delete(X,np.s_[0],1)  # remove the first column of matrix\n",
    "    \n",
    "    \n",
    "    for iter in range(1,num_iters+1):\n",
    "        predictions=np.dot(X,theta)\n",
    "        deriv0=predictions-y\n",
    "        deriv1=np.zeros((m,X.shape[1]),'d')\n",
    "        tempo1=np.zeros((X.shape[1],1),'d')\n",
    "        \n",
    "        for i in range (0,X.shape[1]):        \n",
    "            tempo1[i,0]=np.sum(deriv0.T*X[:,i]) # be careful the internal multiplication. a transpose is needed.\n",
    "            \n",
    "        theta=theta-alpha*(1/m)*tempo1\n",
    "        J_history[iter-1]=computeCostMulti(X,y,theta)\n",
    "    return theta, J_history"
   ]
  },
  {
   "cell_type": "markdown",
   "metadata": {},
   "source": [
    "m=len(y)\n",
    "J_history=np.zeros((num_iters,1),'d')\n",
    "\n",
    "for iter in range(1,num_iters+1):\n",
    "    predictions=np.dot(X,theta)\n",
    "    deriv0=predictions-y\n",
    "    deriv1=np.zeros((m,X.shape[1]),'d')\n",
    "    tempo1=np.zeros((X.shape[1],1),'d')\n",
    "    \n",
    "    for i in range (0,X.shape[1]):\n",
    "        deriv1[:,i]=deriv0.reshape(m,)*X[:,i]\n",
    "        tempo1[i]=np.sum(deriv1[:,i])       \n",
    "        \n",
    "    theta=theta-alpha/m*tempo1\n",
    "    \n",
    "    J_history[iter-1]=computeCostMulti(X,y,theta)\n"
   ]
  },
  {
   "cell_type": "code",
   "execution_count": 110,
   "metadata": {},
   "outputs": [
    {
     "name": "stdout",
     "output_type": "stream",
     "text": [
      "[[334302.06399328]\n",
      " [100087.11600585]\n",
      " [  3673.54845093]]\n"
     ]
    }
   ],
   "source": [
    "theta, J_histrory=gradientDescentMulti(X,y,theta,alpha,num_iters)\n",
    "prediction1=np.dot(np.array([1,1650,3]), theta)\n",
    "print (theta)"
   ]
  },
  {
   "cell_type": "code",
   "execution_count": 111,
   "metadata": {},
   "outputs": [],
   "source": [
    "data=open('ex1data2.txt','r').readlines()\n",
    "X1=[float(elem.split(',')[0]) for elem in data]\n",
    "X2=[float(elem.split(',')[1]) for elem in data]\n",
    "y=[float(elem.split(',')[2])  for elem in data]\n",
    "X=np.c_[X1,X2]\n",
    "m=len(y)\n",
    "one=np.ones((m,1),'d')\n",
    "X=np.c_[one,X]\n",
    "\n",
    "def normalEqn(X,y):\n",
    "    theta=np.zeros((X.shape[1],1),'d')\n",
    "    XTX=np.dot((np.transpose(X)),X)\n",
    "    inv_XTX=alg.inv(XTX)\n",
    "    inv_XTXXT=np.dot(inv_XTX,np.transpose(X))\n",
    "    theta=np.dot(inv_XTXXT,y)\n",
    "    return theta"
   ]
  },
  {
   "cell_type": "code",
   "execution_count": 112,
   "metadata": {},
   "outputs": [
    {
     "data": {
      "text/plain": [
       "array([89597.9095428 ,   139.21067402, -8738.01911233])"
      ]
     },
     "execution_count": 112,
     "metadata": {},
     "output_type": "execute_result"
    }
   ],
   "source": [
    "theta=normalEqn(X,y)\n",
    "theta"
   ]
  },
  {
   "cell_type": "code",
   "execution_count": 113,
   "metadata": {},
   "outputs": [
    {
     "name": "stdout",
     "output_type": "stream",
     "text": [
      "293081.4643348959\n"
     ]
    }
   ],
   "source": [
    "prediction2=np.dot(np.array([1,1650,3]), theta)\n",
    "print (prediction2)"
   ]
  },
  {
   "cell_type": "code",
   "execution_count": null,
   "metadata": {},
   "outputs": [],
   "source": []
  }
 ],
 "metadata": {
  "kernelspec": {
   "display_name": "Python 3",
   "language": "python",
   "name": "python3"
  },
  "language_info": {
   "codemirror_mode": {
    "name": "ipython",
    "version": 3
   },
   "file_extension": ".py",
   "mimetype": "text/x-python",
   "name": "python",
   "nbconvert_exporter": "python",
   "pygments_lexer": "ipython3",
   "version": "3.5.0"
  }
 },
 "nbformat": 4,
 "nbformat_minor": 2
}
